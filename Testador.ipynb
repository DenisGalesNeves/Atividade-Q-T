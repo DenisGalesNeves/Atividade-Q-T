{
  "nbformat": 4,
  "nbformat_minor": 0,
  "metadata": {
    "colab": {
      "provenance": []
    },
    "kernelspec": {
      "name": "python3",
      "display_name": "Python 3"
    },
    "language_info": {
      "name": "python"
    }
  },
  "cells": [
    {
      "cell_type": "markdown",
      "source": [
        "# **Teste para maiores de 18!**"
      ],
      "metadata": {
        "id": "c1hwypxF4LjY"
      }
    },
    {
      "cell_type": "code",
      "source": [
        "def validar_idade(idade):\n",
        "    \"\"\"\n",
        "    Valida se a idade é maior ou igual a 18 anos\n",
        "\n",
        "    Args:\n",
        "        idade (int): Idade a ser validada\n",
        "\n",
        "    Returns:\n",
        "        bool: True se idade >= 18, False caso contrário\n",
        "\n",
        "    Raises:\n",
        "        ValueError: Se a idade não for um número inteiro\n",
        "    \"\"\"\n",
        "    if not isinstance(idade, int):\n",
        "        raise ValueError(\"A idade deve ser um número inteiro\")\n",
        "\n",
        "    return idade >= 18\n",
        "\n",
        "import unittest\n",
        "\n",
        "class TestValidadorIdade(unittest.TestCase):\n",
        "\n",
        "    def test_idade_maior_18(self):\n",
        "        \"\"\"Testa idades maiores ou iguais a 18 anos\"\"\"\n",
        "        self.assertTrue(validar_idade(18))    # Limite inferior\n",
        "        self.assertTrue(validar_idade(25))    # Maior que 18\n",
        "        self.assertTrue(validar_idade(100))   # Idade avançada\n",
        "        self.assertTrue(validar_idade(30))    # Adulto\n",
        "        self.assertTrue(validar_idade(21))    # Maioridade em alguns países\n",
        "\n",
        "    def test_tipo_invalido(self):\n",
        "        \"\"\"Testa se levanta exceção para tipos inválidos\"\"\"\n",
        "        with self.assertRaises(ValueError):\n",
        "            validar_idade(\"18\")      # String\n",
        "        with self.assertRaises(ValueError):\n",
        "            validar_idade(18.5)      # Float\n",
        "        with self.assertRaises(ValueError):\n",
        "            validar_idade([18])      # Lista\n",
        "        with self.assertRaises(ValueError):\n",
        "            validar_idade(None)      # None\n",
        "\n",
        "    def test_casos_limite_positivos(self):\n",
        "        \"\"\"Testa casos limite positivos\"\"\"\n",
        "        self.assertTrue(validar_idade(18))   # Exatamente 18\n",
        "        self.assertTrue(validar_idade(19))   # Um ano acima\n",
        "        self.assertTrue(validar_idade(20))   # Dois anos acima\n",
        "\n",
        "# Função para verificação interativa\n",
        "def verificar_idade_interativo():\n",
        "    \"\"\"Função para digitar e verificar a idade\"\"\"\n",
        "    print(\"\\n\" + \"=\"*50)\n",
        "    print(\"VERIFICAÇÃO INTERATIVA DE IDADE\")\n",
        "    print(\"=\"*50)\n",
        "\n",
        "    while True:\n",
        "        try:\n",
        "            # Digitar a idade\n",
        "            entrada = input(\"\\nDigite sua idade (ou 'sair' para terminar): \")\n",
        "\n",
        "            if entrada.lower() == 'sair':\n",
        "                print(\"Encerrando verificação...\")\n",
        "                break\n",
        "\n",
        "            # Converter para inteiro e validar\n",
        "            idade = int(entrada)\n",
        "            resultado = validar_idade(idade)\n",
        "\n",
        "            # Mostrar resultado\n",
        "            if resultado:\n",
        "                print(f\"✓ Com {idade} anos: MAIOR DE IDADE\")\n",
        "            else:\n",
        "                print(f\"✗ Com {idade} anos: MENOR DE IDADE\")\n",
        "\n",
        "        except ValueError:\n",
        "            print(\"❌ Erro: Digite apenas números inteiros!\")\n",
        "        except Exception as e:\n",
        "            print(f\"❌ Erro inesperado: {e}\")\n",
        "\n",
        "# Executar os testes\n",
        "if __name__ == '__main__':\n",
        "    # Primeiro executamos os testes unitários\n",
        "    print(\"EXECUTANDO TESTES UNITÁRIOS...\")\n",
        "    print(\"=\"*50)\n",
        "\n",
        "    loader = unittest.TestLoader()\n",
        "    suite = loader.loadTestsFromTestCase(TestValidadorIdade)\n",
        "    runner = unittest.TextTestRunner(verbosity=2)\n",
        "    result = runner.run(suite)\n",
        "\n",
        "    # Mostrar resultado dos testes\n",
        "    print(f\"\\n{'='*50}\")\n",
        "    print(f\"Resultado dos testes: {'SUCESSO' if result.wasSuccessful() else 'FALHA'}\")\n",
        "    print(f\"Testes executados: {result.testsRun}\")\n",
        "    print(f\"Falhas: {len(result.failures)}\")\n",
        "    print(f\"Erros: {len(result.errors)}\")\n",
        "    print(f\"{'='*50}\")\n",
        "\n",
        "    # Depois executamos a verificação interativa\n",
        "    verificar_idade_interativo()"
      ],
      "metadata": {
        "colab": {
          "base_uri": "https://localhost:8080/"
        },
        "id": "6bEtWvdO4JOA",
        "outputId": "41a51308-551c-4c60-ec3a-98779288052d"
      },
      "execution_count": null,
      "outputs": [
        {
          "output_type": "stream",
          "name": "stderr",
          "text": [
            "test_casos_limite_positivos (__main__.TestValidadorIdade.test_casos_limite_positivos)\n",
            "Testa casos limite positivos ... ok\n",
            "test_idade_maior_18 (__main__.TestValidadorIdade.test_idade_maior_18)\n",
            "Testa idades maiores ou iguais a 18 anos ... ok\n",
            "test_tipo_invalido (__main__.TestValidadorIdade.test_tipo_invalido)\n",
            "Testa se levanta exceção para tipos inválidos ... ok\n",
            "\n",
            "----------------------------------------------------------------------\n",
            "Ran 3 tests in 0.005s\n",
            "\n",
            "OK\n"
          ]
        },
        {
          "output_type": "stream",
          "name": "stdout",
          "text": [
            "EXECUTANDO TESTES UNITÁRIOS...\n",
            "==================================================\n",
            "\n",
            "==================================================\n",
            "Resultado dos testes: SUCESSO\n",
            "Testes executados: 3\n",
            "Falhas: 0\n",
            "Erros: 0\n",
            "==================================================\n",
            "\n",
            "==================================================\n",
            "VERIFICAÇÃO INTERATIVA DE IDADE\n",
            "==================================================\n"
          ]
        }
      ]
    }
  ]
}